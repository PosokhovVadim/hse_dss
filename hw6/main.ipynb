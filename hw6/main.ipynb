{
 "cells": [
  {
   "cell_type": "markdown",
   "id": "defc2bdf",
   "metadata": {},
   "source": [
    "Still in progress\n"
   ]
  }
 ],
 "metadata": {
  "language_info": {
   "name": "python"
  }
 },
 "nbformat": 4,
 "nbformat_minor": 5
}
